{
 "cells": [
  {
   "cell_type": "code",
   "execution_count": 63,
   "metadata": {},
   "outputs": [],
   "source": [
    "# -*- coding: utf-8 -*-\n",
    "\"\"\"\n",
    "Created on Thu Jan 30 14:50:01 2020\n",
    "@author: rlgns\n",
    "\"\"\"\n",
    "\n",
    "'''\n",
    "HGU\n",
    "CSEE\n",
    "KGH\n",
    "Fuzzy art + map\n",
    "'''\n",
    "\n",
    "import numpy as np\n",
    "import os\n",
    "import matplotlib.pyplot as plt\n",
    "\n",
    "\n",
    "\n",
    "class Fuzzy_ARTMAP():\n",
    "    # create the artmap\n",
    "    def __init__(self, feature_space = 1, threshold = 0.5, w_list = [] , label_list = []):\n",
    "        print(\"## ARTMAP model is created##\")\n",
    "        self.M = feature_space\n",
    "        self.threshold = threshold\n",
    "        self.w_list = w_list\n",
    "        self.label_list = label_list\n",
    "        \n",
    "    #convert input to elementwise complement\n",
    "    def complement_coding(self, input_vector):\n",
    "        #normalization_vector(input_vector) \n",
    "        complement_vector = [1-i for i in input_vector]\n",
    "        return complement_vector\n",
    "    \n",
    "    #concat the input and complemented input for artmap input\n",
    "    def make_input_x(self, input_i):\n",
    "        return input_i + self.complement_coding(input_i)\n",
    "    \n",
    "    #component_wise_min\n",
    "    def component_wise_min(self, x,y):\n",
    "        if len(x) != len(y):\n",
    "            return print(\"vector length unmatched!\")\n",
    "        zip_list = list(zip(x,y))\n",
    "        min_list = [min(i,j) for i,j in zip_list]\n",
    "        return min_list\n",
    " \n",
    "    # choice function #𝑇_𝑗=|x∧𝐰_𝑗 |+(1−𝛼)(2𝑀−|𝐰_𝑗 |)  (Choice by difference)\n",
    "    def choice_function(self, x, w):\n",
    "        #|𝐱∧𝐰_𝑗 |\n",
    "        non_zero_a = 0.000001\n",
    "        x_w = self.component_wise_min(x,w)\n",
    "        x_w_norm = sum(x_w)\n",
    "        w_norm = sum(w)\n",
    "        #𝑇_𝑗=|x∧𝐰_𝑗 |+(1−𝛼)(2𝑀−|𝐰_𝑗 |)  범위가 0~2 인듯??\n",
    "        T_j = x_w_norm + (1-non_zero_a)*(2*self.M - w_norm)\n",
    "        return T_j    \n",
    "    \n",
    "    #find nearest w at input x\n",
    "    def Code_competition(self, input_x, label):\n",
    "        choice_list = [self.choice_function(input_x, w) for w in self.w_list]\n",
    "        #print(\"choice list:\", choice_list)\n",
    "        #indices = [i for i, x in enumerate(t_list) if x == 1.0] # is the input in any categories?\n",
    "        #if input belong to any w\n",
    "        return self.template_matching(input_x, label, choice_list)\n",
    "\n",
    "    #template matching the calculated value from input and template \n",
    "    def template_matching(self, input_x, label ,choice_list):  \n",
    "        for idx, index in enumerate(np.flip(np.argsort(choice_list))): # sort the up-down and test each in order\n",
    "            #|𝑅_𝐽⊕𝐈\"|=𝑀−|𝐱∧𝐰_𝐽 |≤𝑀(1−𝜌)\n",
    "            #print(self.w_list[index])\n",
    "            x_w =self.component_wise_min(input_x , self.w_list[index])\n",
    "            # matching template and label\n",
    "            if self.label_list[index] == label:\n",
    "                #matching_bool = ((self.M - sum(x_w))<=(self.M*(1-self.threshold)))\n",
    "                #if matching_bool == True : # if matching is true, extend that w-thboundary \n",
    "                if (self.M - sum(x_w))<=(self.M*(1-self.threshold)):\n",
    "                    self.w_list[index] = self.component_wise_min(input_x, self.w_list[index]) # template learning\n",
    "                    #print(\"template learning\",  self.w_list )\n",
    "                    #print(\"Related template:\", self.w_list[index]  )\n",
    "                    #print(\"Related label:\", self.label_list[index]  )\n",
    "                    return self.w_list, self.label_list[index]\n",
    "                \n",
    "        # if any boundary is unmatched, make new boundary by input_x\n",
    "        self.w_list = self.w_list + [input_x] # Category addition\n",
    "        self.label_list = self.label_list + [label]\n",
    "        #print(\"Category addition\", self.w_list)\n",
    "        #print(\"additional label:\", label)\n",
    "        return  self.w_list, label\n",
    "    \n",
    "    # train mode / add or expanding the templates b input\n",
    "    def Train(self, input_i ,label):\n",
    "        input_x = self.make_input_x(input_i)\n",
    "        self.w_list, category  = self.Code_competition(input_x, label)\n",
    "        return category\n",
    "\n",
    "    # test mode / return the label or None by input\n",
    "    def Test(self, input_i):\n",
    "        input_x = self.make_input_x(input_i)\n",
    "        # select max choice Function value\n",
    "        choice_list = [self.choice_function(input_x, w) for w in self.w_list]\n",
    "        try:\n",
    "            choice_max = max(choice_list)\n",
    "        except ValueError:\n",
    "            return 0\n",
    "    \n",
    "        if choice_max < self.M*(1-self.threshold) :\n",
    "            return 0\n",
    "            #return None\n",
    "        else:\n",
    "            return self.label_list[choice_list.index(choice_max)]\n",
    "        #return self.label_list[choice_list.index(max(choice_list))]\n",
    "\n",
    "        \n",
    "        \n",
    "    # print the information of the ARTMAP\n",
    "    def info(self):\n",
    "        print(\"feature space = \", self.M)\n",
    "        print(\"threshold = \", self.threshold)\n",
    "        print(\"w_list =\", self.w_list)\n",
    "        print(\"label_list: = \", self.label_list)\n",
    "        print(\"num of categories:\", len(self.w_list)) \n",
    "        \n",
    "    def plot_ART(self):\n",
    "        pass   \n",
    "    # Reset the ARTMAP elements   \n",
    "    def Reset(self):\n",
    "        self.w_list = []\n",
    "        self.label_list = []\n",
    "        return print(\"Reset the all of templates and labels\")\n",
    "    # save the label list and w list\n",
    "    def Save(self, path = os.getcwd()):\n",
    "        #np_label = np.asarray(self.label_list)\n",
    "        #np_w = np.asarray(self.w_list)\n",
    "        np.save(path+\"\\\\label_info.npy\",self.label_list)\n",
    "        np.save(path+\"\\\\template_info.npy\",self.w_list)        \n",
    "    # load the label list and w list    \n",
    "    def Load(self, path = os.getcwd()):\n",
    "        self.label_list = np.load(path+\"\\\\label_info.npy\").tolist()\n",
    "        self.w_list = np.load(path+\"\\\\template_info.npy\").tolist()"
   ]
  },
  {
   "cell_type": "code",
   "execution_count": 64,
   "metadata": {},
   "outputs": [
    {
     "name": "stdout",
     "output_type": "stream",
     "text": [
      "## ARTMAP model is created##\n"
     ]
    }
   ],
   "source": [
    "beta = Fuzzy_ARTMAP()"
   ]
  },
  {
   "cell_type": "code",
   "execution_count": 65,
   "metadata": {},
   "outputs": [],
   "source": [
    "input_1 = [0.1,0.1]"
   ]
  },
  {
   "cell_type": "code",
   "execution_count": 66,
   "metadata": {},
   "outputs": [
    {
     "data": {
      "text/plain": [
       "0"
      ]
     },
     "execution_count": 66,
     "metadata": {},
     "output_type": "execute_result"
    }
   ],
   "source": [
    "#test with empty artmap\n",
    "beta.Test(input_1)"
   ]
  },
  {
   "cell_type": "code",
   "execution_count": 67,
   "metadata": {},
   "outputs": [
    {
     "data": {
      "text/plain": [
       "3"
      ]
     },
     "execution_count": 67,
     "metadata": {},
     "output_type": "execute_result"
    }
   ],
   "source": [
    "beta.Train(input_1 , 3)"
   ]
  },
  {
   "cell_type": "code",
   "execution_count": 68,
   "metadata": {},
   "outputs": [
    {
     "name": "stdout",
     "output_type": "stream",
     "text": [
      "feature space =  1\n",
      "threshold =  0.5\n",
      "w_list = [[0.1, 0.1, 0.9, 0.9]]\n",
      "label_list: =  [3]\n",
      "num of categories: 1\n"
     ]
    }
   ],
   "source": [
    "#print the infomation of ARTMAP state\n",
    "beta.info()"
   ]
  },
  {
   "cell_type": "code",
   "execution_count": 69,
   "metadata": {},
   "outputs": [
    {
     "data": {
      "text/plain": [
       "3"
      ]
     },
     "execution_count": 69,
     "metadata": {},
     "output_type": "execute_result"
    }
   ],
   "source": [
    "beta.Test(input_1)"
   ]
  },
  {
   "cell_type": "code",
   "execution_count": 70,
   "metadata": {},
   "outputs": [],
   "source": [
    "input_2 = [0.9,0.9]"
   ]
  },
  {
   "cell_type": "code",
   "execution_count": 71,
   "metadata": {},
   "outputs": [
    {
     "data": {
      "text/plain": [
       "0"
      ]
     },
     "execution_count": 71,
     "metadata": {},
     "output_type": "execute_result"
    }
   ],
   "source": [
    "beta.Test(input_2)"
   ]
  },
  {
   "cell_type": "code",
   "execution_count": 76,
   "metadata": {},
   "outputs": [
    {
     "data": {
      "text/plain": [
       "3"
      ]
     },
     "execution_count": 76,
     "metadata": {},
     "output_type": "execute_result"
    }
   ],
   "source": [
    "beta.Train(input_2, 3)"
   ]
  },
  {
   "cell_type": "code",
   "execution_count": 77,
   "metadata": {},
   "outputs": [
    {
     "data": {
      "text/plain": [
       "3"
      ]
     },
     "execution_count": 77,
     "metadata": {},
     "output_type": "execute_result"
    }
   ],
   "source": [
    "beta.Test(input_2)"
   ]
  },
  {
   "cell_type": "code",
   "execution_count": 78,
   "metadata": {},
   "outputs": [
    {
     "name": "stdout",
     "output_type": "stream",
     "text": [
      "feature space =  1\n",
      "threshold =  0.5\n",
      "w_list = [[0.1, 0.1, 0.9, 0.9], [0.9, 0.9, 0.09999999999999998, 0.09999999999999998]]\n",
      "label_list: =  [3, 3]\n",
      "num of categories: 2\n"
     ]
    }
   ],
   "source": [
    "beta.info()"
   ]
  },
  {
   "cell_type": "code",
   "execution_count": 79,
   "metadata": {},
   "outputs": [],
   "source": [
    "input_3 = [0.2,0.2]"
   ]
  },
  {
   "cell_type": "code",
   "execution_count": 80,
   "metadata": {},
   "outputs": [
    {
     "data": {
      "text/plain": [
       "1"
      ]
     },
     "execution_count": 80,
     "metadata": {},
     "output_type": "execute_result"
    }
   ],
   "source": [
    "beta.Train(input_3, 1)"
   ]
  },
  {
   "cell_type": "code",
   "execution_count": 81,
   "metadata": {},
   "outputs": [
    {
     "name": "stdout",
     "output_type": "stream",
     "text": [
      "feature space =  1\n",
      "threshold =  0.5\n",
      "w_list = [[0.1, 0.1, 0.9, 0.9], [0.9, 0.9, 0.09999999999999998, 0.09999999999999998], [0.2, 0.2, 0.8, 0.8]]\n",
      "label_list: =  [3, 3, 1]\n",
      "num of categories: 3\n"
     ]
    }
   ],
   "source": [
    "beta.info()"
   ]
  },
  {
   "cell_type": "code",
   "execution_count": 82,
   "metadata": {},
   "outputs": [],
   "source": [
    "input_4 = [0.01,0.01]"
   ]
  },
  {
   "cell_type": "code",
   "execution_count": 83,
   "metadata": {},
   "outputs": [
    {
     "data": {
      "text/plain": [
       "3"
      ]
     },
     "execution_count": 83,
     "metadata": {},
     "output_type": "execute_result"
    }
   ],
   "source": [
    "beta.Test(input_4)"
   ]
  },
  {
   "cell_type": "code",
   "execution_count": 84,
   "metadata": {},
   "outputs": [
    {
     "data": {
      "text/plain": [
       "1"
      ]
     },
     "execution_count": 84,
     "metadata": {},
     "output_type": "execute_result"
    }
   ],
   "source": [
    "beta.Train(input_4,1)"
   ]
  },
  {
   "cell_type": "code",
   "execution_count": 85,
   "metadata": {},
   "outputs": [
    {
     "name": "stdout",
     "output_type": "stream",
     "text": [
      "feature space =  1\n",
      "threshold =  0.5\n",
      "w_list = [[0.1, 0.1, 0.9, 0.9], [0.9, 0.9, 0.09999999999999998, 0.09999999999999998], [0.01, 0.01, 0.8, 0.8]]\n",
      "label_list: =  [3, 3, 1]\n",
      "num of categories: 3\n"
     ]
    }
   ],
   "source": [
    "beta.info()"
   ]
  },
  {
   "cell_type": "code",
   "execution_count": 86,
   "metadata": {},
   "outputs": [
    {
     "data": {
      "text/plain": [
       "1"
      ]
     },
     "execution_count": 86,
     "metadata": {},
     "output_type": "execute_result"
    }
   ],
   "source": [
    "beta.Test(input_4)"
   ]
  },
  {
   "cell_type": "code",
   "execution_count": 87,
   "metadata": {},
   "outputs": [],
   "source": [
    "input_5 = [1,1]"
   ]
  },
  {
   "cell_type": "code",
   "execution_count": 88,
   "metadata": {},
   "outputs": [
    {
     "data": {
      "text/plain": [
       "3"
      ]
     },
     "execution_count": 88,
     "metadata": {},
     "output_type": "execute_result"
    }
   ],
   "source": [
    "beta.Test(input_5)"
   ]
  },
  {
   "cell_type": "code",
   "execution_count": 89,
   "metadata": {},
   "outputs": [],
   "source": [
    "input_6 = [0.9,0.9]"
   ]
  },
  {
   "cell_type": "code",
   "execution_count": 90,
   "metadata": {},
   "outputs": [
    {
     "data": {
      "text/plain": [
       "4"
      ]
     },
     "execution_count": 90,
     "metadata": {},
     "output_type": "execute_result"
    }
   ],
   "source": [
    "beta.Train(input_5, 4)"
   ]
  },
  {
   "cell_type": "code",
   "execution_count": 91,
   "metadata": {},
   "outputs": [
    {
     "data": {
      "text/plain": [
       "5"
      ]
     },
     "execution_count": 91,
     "metadata": {},
     "output_type": "execute_result"
    }
   ],
   "source": [
    "beta.Train(input_6, 5)"
   ]
  },
  {
   "cell_type": "code",
   "execution_count": 92,
   "metadata": {},
   "outputs": [
    {
     "data": {
      "text/plain": [
       "4"
      ]
     },
     "execution_count": 92,
     "metadata": {},
     "output_type": "execute_result"
    }
   ],
   "source": [
    "beta.Test([0.96,0.96])"
   ]
  },
  {
   "cell_type": "code",
   "execution_count": 93,
   "metadata": {},
   "outputs": [
    {
     "data": {
      "text/plain": [
       "3"
      ]
     },
     "execution_count": 93,
     "metadata": {},
     "output_type": "execute_result"
    }
   ],
   "source": [
    "beta.Test([0.94,0.94])"
   ]
  },
  {
   "cell_type": "code",
   "execution_count": 94,
   "metadata": {},
   "outputs": [
    {
     "name": "stdout",
     "output_type": "stream",
     "text": [
      "feature space =  1\n",
      "threshold =  0.5\n",
      "w_list = [[0.1, 0.1, 0.9, 0.9], [0.9, 0.9, 0.09999999999999998, 0.09999999999999998], [0.01, 0.01, 0.8, 0.8], [1, 1, 0, 0], [0.9, 0.9, 0.09999999999999998, 0.09999999999999998]]\n",
      "label_list: =  [3, 3, 1, 4, 5]\n",
      "num of categories: 5\n"
     ]
    }
   ],
   "source": [
    "beta.info()"
   ]
  },
  {
   "cell_type": "code",
   "execution_count": 95,
   "metadata": {},
   "outputs": [],
   "source": [
    "beta.Save()"
   ]
  },
  {
   "cell_type": "code",
   "execution_count": 96,
   "metadata": {},
   "outputs": [
    {
     "name": "stdout",
     "output_type": "stream",
     "text": [
      "Reset the all of templates and labels\n"
     ]
    }
   ],
   "source": [
    "beta.Reset()"
   ]
  },
  {
   "cell_type": "code",
   "execution_count": 97,
   "metadata": {},
   "outputs": [
    {
     "name": "stdout",
     "output_type": "stream",
     "text": [
      "feature space =  1\n",
      "threshold =  0.5\n",
      "w_list = []\n",
      "label_list: =  []\n",
      "num of categories: 0\n"
     ]
    }
   ],
   "source": [
    "beta.info()"
   ]
  },
  {
   "cell_type": "code",
   "execution_count": 98,
   "metadata": {},
   "outputs": [],
   "source": [
    "beta.Load()"
   ]
  },
  {
   "cell_type": "code",
   "execution_count": 99,
   "metadata": {},
   "outputs": [
    {
     "name": "stdout",
     "output_type": "stream",
     "text": [
      "feature space =  1\n",
      "threshold =  0.5\n",
      "w_list = [[0.1, 0.1, 0.9, 0.9], [0.9, 0.9, 0.09999999999999998, 0.09999999999999998], [0.01, 0.01, 0.8, 0.8], [1.0, 1.0, 0.0, 0.0], [0.9, 0.9, 0.09999999999999998, 0.09999999999999998]]\n",
      "label_list: =  [3, 3, 1, 4, 5]\n",
      "num of categories: 5\n"
     ]
    }
   ],
   "source": [
    "beta.info()"
   ]
  },
  {
   "cell_type": "code",
   "execution_count": 100,
   "metadata": {},
   "outputs": [
    {
     "data": {
      "text/plain": [
       "3"
      ]
     },
     "execution_count": 100,
     "metadata": {},
     "output_type": "execute_result"
    }
   ],
   "source": [
    "beta.Test([0.94,0.94])"
   ]
  },
  {
   "cell_type": "code",
   "execution_count": 101,
   "metadata": {},
   "outputs": [
    {
     "name": "stdout",
     "output_type": "stream",
     "text": [
      "Thank you!\n"
     ]
    }
   ],
   "source": [
    "print(\"Thank you!\")"
   ]
  },
  {
   "cell_type": "code",
   "execution_count": null,
   "metadata": {},
   "outputs": [],
   "source": []
  }
 ],
 "metadata": {
  "kernelspec": {
   "display_name": "Python 3",
   "language": "python",
   "name": "python3"
  },
  "language_info": {
   "codemirror_mode": {
    "name": "ipython",
    "version": 3
   },
   "file_extension": ".py",
   "mimetype": "text/x-python",
   "name": "python",
   "nbconvert_exporter": "python",
   "pygments_lexer": "ipython3",
   "version": "3.7.1"
  }
 },
 "nbformat": 4,
 "nbformat_minor": 2
}
