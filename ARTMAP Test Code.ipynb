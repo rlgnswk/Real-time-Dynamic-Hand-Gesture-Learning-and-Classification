{
 "cells": [
  {
   "cell_type": "code",
   "execution_count": 1,
   "metadata": {},
   "outputs": [],
   "source": [
    "# -*- coding: utf-8 -*-\n",
    "\"\"\"\n",
    "Created on Thu Jan 30 14:50:01 2020\n",
    "@author: rlgns\n",
    "\"\"\"\n",
    "\n",
    "'''\n",
    "HGU\n",
    "CSEE\n",
    "KGH\n",
    "Fuzzy art + map\n",
    "'''\n",
    "\n",
    "import numpy as np\n",
    "import os\n",
    "import matplotlib.pyplot as plt\n",
    "\n",
    "\n",
    "\n",
    "class Fuzzy_ARTMAP():\n",
    "    # create the artmap\n",
    "    def __init__(self, feature_space = 1, threshold = 0.5, w_list = [] , label_list = []):\n",
    "        print(\"## ARTMAP model is created##\")\n",
    "        self.M = feature_space\n",
    "        self.threshold = threshold\n",
    "        self.w_list = w_list\n",
    "        self.label_list = label_list\n",
    "        \n",
    "    #convert input to elementwise complement\n",
    "    def complement_coding(self, input_vector):\n",
    "        #normalization_vector(input_vector) \n",
    "        complement_vector = [1-i for i in input_vector]\n",
    "        return complement_vector\n",
    "    \n",
    "    #concat the input and complemented input for artmap input\n",
    "    def make_input_x(self, input_i):\n",
    "        return input_i + self.complement_coding(input_i)\n",
    "    \n",
    "    #component_wise_min\n",
    "    def component_wise_min(self, x,y):\n",
    "        if len(x) != len(y):\n",
    "            return print(\"vector length unmatched!\")\n",
    "        zip_list = list(zip(x,y))\n",
    "        min_list = [min(i,j) for i,j in zip_list]\n",
    "        return min_list\n",
    " \n",
    "    # choice function #𝑇_𝑗=|x∧𝐰_𝑗 |+(1−𝛼)(2𝑀−|𝐰_𝑗 |)  (Choice by difference)\n",
    "    def choice_function(self, x, w):\n",
    "        #|𝐱∧𝐰_𝑗 |\n",
    "        non_zero_a = 0.000001\n",
    "        x_w = self.component_wise_min(x,w)\n",
    "        x_w_norm = sum(x_w)\n",
    "        w_norm = sum(w)\n",
    "        #𝑇_𝑗=|x∧𝐰_𝑗 |+(1−𝛼)(2𝑀−|𝐰_𝑗 |)  범위가 0~2 인듯??\n",
    "        T_j = x_w_norm + (1-non_zero_a)*(2*self.M - w_norm)\n",
    "        return T_j    \n",
    "    \n",
    "    #find nearest w at input x\n",
    "    def Code_competition(self, input_x, label):\n",
    "        choice_list = [self.choice_function(input_x, w) for w in self.w_list]\n",
    "        #print(\"choice list:\", choice_list)\n",
    "        #indices = [i for i, x in enumerate(t_list) if x == 1.0] # is the input in any categories?\n",
    "        #if input belong to any w\n",
    "        return self.template_matching(input_x, label, choice_list)\n",
    "\n",
    "    #template matching the calculated value from input and template \n",
    "    def template_matching(self, input_x, label ,choice_list):  \n",
    "        for idx, index in enumerate(np.flip(np.argsort(choice_list))): # sort the up-down and test each in order\n",
    "            #|𝑅_𝐽⊕𝐈\"|=𝑀−|𝐱∧𝐰_𝐽 |≤𝑀(1−𝜌)\n",
    "            #print(self.w_list[index])\n",
    "            x_w =self.component_wise_min(input_x , self.w_list[index])\n",
    "            # matching template and label\n",
    "            if self.label_list[index] == label:\n",
    "                #matching_bool = ((self.M - sum(x_w))<=(self.M*(1-self.threshold)))\n",
    "                #if matching_bool == True : # if matching is true, extend that w-thboundary \n",
    "                if (self.M - sum(x_w))<=(self.M*(1-self.threshold)):\n",
    "                    self.w_list[index] = self.component_wise_min(input_x, self.w_list[index]) # template learning\n",
    "                    #print(\"template learning\",  self.w_list )\n",
    "                    #print(\"Related template:\", self.w_list[index]  )\n",
    "                    #print(\"Related label:\", self.label_list[index]  )\n",
    "                    return self.w_list, self.label_list[index]\n",
    "                \n",
    "        # if any boundary is unmatched, make new boundary by input_x\n",
    "        self.w_list = self.w_list + [input_x] # Category addition\n",
    "        self.label_list = self.label_list + [label]\n",
    "        #print(\"Category addition\", self.w_list)\n",
    "        #print(\"additional label:\", label)\n",
    "        return  self.w_list, label\n",
    "    \n",
    "    # train mode / add or expanding the templates b input\n",
    "    def Train(self, input_i ,label):\n",
    "        input_x = self.make_input_x(input_i)\n",
    "        self.w_list, category  = self.Code_competition(input_x, label)\n",
    "        return category\n",
    "\n",
    "    # test mode / return the label or None by input\n",
    "    def Test(self, input_i):\n",
    "        input_x = self.make_input_x(input_i)\n",
    "        # select max choice Function value\n",
    "        choice_list = [self.choice_function(input_x, w) for w in self.w_list]\n",
    "        try:\n",
    "            choice_max = max(choice_list)\n",
    "        except ValueError:\n",
    "            return 0\n",
    "    \n",
    "        if choice_max < self.M*(1-self.threshold) :\n",
    "            return 0\n",
    "            #return None\n",
    "        else:\n",
    "            return self.label_list[choice_list.index(choice_max)]\n",
    "        #return self.label_list[choice_list.index(max(choice_list))]\n",
    "\n",
    "        \n",
    "        \n",
    "    # print the information of the ARTMAP\n",
    "    def info(self):\n",
    "        print(\"feature space = \", self.M)\n",
    "        print(\"threshold = \", self.threshold)\n",
    "        print(\"w_list =\", self.w_list)\n",
    "        print(\"label_list: = \", self.label_list)\n",
    "        print(\"num of categories:\", len(self.w_list)) \n",
    "        \n",
    "    def plot_ART(self):\n",
    "        pass   \n",
    "    # Reset the ARTMAP elements   \n",
    "    def Reset(self):\n",
    "        self.w_list = []\n",
    "        self.label_list = []\n",
    "        return print(\"Reset the all of templates and labels\")\n",
    "    # save the label list and w list\n",
    "    def Save(self, path = os.getcwd()):\n",
    "        #np_label = np.asarray(self.label_list)\n",
    "        #np_w = np.asarray(self.w_list)\n",
    "        np.save(path+\"\\\\label_info.npy\",self.label_list)\n",
    "        np.save(path+\"\\\\template_info.npy\",self.w_list)        \n",
    "    # load the label list and w list    \n",
    "    def Load(self, path = os.getcwd()):\n",
    "        self.label_list = np.load(path+\"\\\\label_info.npy\").tolist()\n",
    "        self.w_list = np.load(path+\"\\\\template_info.npy\").tolist()"
   ]
  },
  {
   "cell_type": "code",
   "execution_count": 2,
   "metadata": {},
   "outputs": [
    {
     "name": "stdout",
     "output_type": "stream",
     "text": [
      "## ARTMAP model is created##\n"
     ]
    }
   ],
   "source": [
    "# Create ARTMAP Object\n",
    "beta = Fuzzy_ARTMAP()"
   ]
  },
  {
   "cell_type": "code",
   "execution_count": 3,
   "metadata": {},
   "outputs": [],
   "source": [
    "#make sample input\n",
    "input_1 = [0.1,0.1]"
   ]
  },
  {
   "cell_type": "code",
   "execution_count": 4,
   "metadata": {},
   "outputs": [
    {
     "data": {
      "text/plain": [
       "0"
      ]
     },
     "execution_count": 4,
     "metadata": {},
     "output_type": "execute_result"
    }
   ],
   "source": [
    "#test with empty artmap\n",
    "#result : 0\n",
    "beta.Test(input_1)"
   ]
  },
  {
   "cell_type": "code",
   "execution_count": 5,
   "metadata": {},
   "outputs": [
    {
     "data": {
      "text/plain": [
       "3"
      ]
     },
     "execution_count": 5,
     "metadata": {},
     "output_type": "execute_result"
    }
   ],
   "source": [
    "# do train\n",
    "beta.Train(input_1 , 3)"
   ]
  },
  {
   "cell_type": "code",
   "execution_count": 6,
   "metadata": {},
   "outputs": [
    {
     "name": "stdout",
     "output_type": "stream",
     "text": [
      "feature space =  1\n",
      "threshold =  0.5\n",
      "w_list = [[0.1, 0.1, 0.9, 0.9]]\n",
      "label_list: =  [3]\n",
      "num of categories: 1\n"
     ]
    }
   ],
   "source": [
    "#print the infomation of ARTMAP state\n",
    "beta.info()"
   ]
  },
  {
   "cell_type": "code",
   "execution_count": 7,
   "metadata": {},
   "outputs": [
    {
     "data": {
      "text/plain": [
       "3"
      ]
     },
     "execution_count": 7,
     "metadata": {},
     "output_type": "execute_result"
    }
   ],
   "source": [
    "# test again \n",
    "beta.Test(input_1)"
   ]
  },
  {
   "cell_type": "code",
   "execution_count": 8,
   "metadata": {},
   "outputs": [],
   "source": [
    "#make another sample which has long distance with before one\n",
    "input_2 = [0.9,0.9]"
   ]
  },
  {
   "cell_type": "code",
   "execution_count": 9,
   "metadata": {},
   "outputs": [
    {
     "data": {
      "text/plain": [
       "0"
      ]
     },
     "execution_count": 9,
     "metadata": {},
     "output_type": "execute_result"
    }
   ],
   "source": [
    "#no matching with any categories\n",
    "beta.Test(input_2)"
   ]
  },
  {
   "cell_type": "code",
   "execution_count": 10,
   "metadata": {},
   "outputs": [
    {
     "data": {
      "text/plain": [
       "3"
      ]
     },
     "execution_count": 10,
     "metadata": {},
     "output_type": "execute_result"
    }
   ],
   "source": [
    "#Train\n",
    "beta.Train(input_2, 3)"
   ]
  },
  {
   "cell_type": "code",
   "execution_count": 11,
   "metadata": {},
   "outputs": [
    {
     "data": {
      "text/plain": [
       "3"
      ]
     },
     "execution_count": 11,
     "metadata": {},
     "output_type": "execute_result"
    }
   ],
   "source": [
    "#matching!\n",
    "beta.Test(input_2)"
   ]
  },
  {
   "cell_type": "code",
   "execution_count": 35,
   "metadata": {},
   "outputs": [
    {
     "name": "stdout",
     "output_type": "stream",
     "text": [
      "feature space =  1\n",
      "threshold =  0.5\n",
      "w_list = [[0.1, 0.1, 0.9, 0.9], [0.9, 0.9, 0.09999999999999998, 0.09999999999999998], [0.01, 0.01, 0.8, 0.8], [1.0, 1.0, 0.0, 0.0]]\n",
      "label_list: =  [3, 3, 1, 4]\n",
      "num of categories: 4\n"
     ]
    }
   ],
   "source": [
    "#Could check there is anoter weight vector created\n",
    "beta.info()"
   ]
  },
  {
   "cell_type": "code",
   "execution_count": 36,
   "metadata": {},
   "outputs": [],
   "source": [
    "input_3 = [0.2,0.2]"
   ]
  },
  {
   "cell_type": "code",
   "execution_count": 37,
   "metadata": {},
   "outputs": [
    {
     "data": {
      "text/plain": [
       "1"
      ]
     },
     "execution_count": 37,
     "metadata": {},
     "output_type": "execute_result"
    }
   ],
   "source": [
    "beta.Train(input_3, 1)"
   ]
  },
  {
   "cell_type": "code",
   "execution_count": 38,
   "metadata": {},
   "outputs": [
    {
     "name": "stdout",
     "output_type": "stream",
     "text": [
      "feature space =  1\n",
      "threshold =  0.5\n",
      "w_list = [[0.1, 0.1, 0.9, 0.9], [0.9, 0.9, 0.09999999999999998, 0.09999999999999998], [0.01, 0.01, 0.8, 0.8], [1.0, 1.0, 0.0, 0.0]]\n",
      "label_list: =  [3, 3, 1, 4]\n",
      "num of categories: 4\n"
     ]
    }
   ],
   "source": [
    "beta.info()"
   ]
  },
  {
   "cell_type": "code",
   "execution_count": 39,
   "metadata": {},
   "outputs": [],
   "source": [
    "input_4 = [0.01,0.01]"
   ]
  },
  {
   "cell_type": "code",
   "execution_count": 40,
   "metadata": {},
   "outputs": [
    {
     "data": {
      "text/plain": [
       "1"
      ]
     },
     "execution_count": 40,
     "metadata": {},
     "output_type": "execute_result"
    }
   ],
   "source": [
    "beta.Test(input_4)"
   ]
  },
  {
   "cell_type": "code",
   "execution_count": 41,
   "metadata": {},
   "outputs": [
    {
     "data": {
      "text/plain": [
       "1"
      ]
     },
     "execution_count": 41,
     "metadata": {},
     "output_type": "execute_result"
    }
   ],
   "source": [
    "beta.Train(input_4,1)"
   ]
  },
  {
   "cell_type": "code",
   "execution_count": 42,
   "metadata": {},
   "outputs": [
    {
     "name": "stdout",
     "output_type": "stream",
     "text": [
      "feature space =  1\n",
      "threshold =  0.5\n",
      "w_list = [[0.1, 0.1, 0.9, 0.9], [0.9, 0.9, 0.09999999999999998, 0.09999999999999998], [0.01, 0.01, 0.8, 0.8], [1.0, 1.0, 0.0, 0.0]]\n",
      "label_list: =  [3, 3, 1, 4]\n",
      "num of categories: 4\n"
     ]
    }
   ],
   "source": [
    "beta.info()"
   ]
  },
  {
   "cell_type": "code",
   "execution_count": 43,
   "metadata": {},
   "outputs": [
    {
     "data": {
      "text/plain": [
       "1"
      ]
     },
     "execution_count": 43,
     "metadata": {},
     "output_type": "execute_result"
    }
   ],
   "source": [
    "beta.Test(input_4)"
   ]
  },
  {
   "cell_type": "code",
   "execution_count": 44,
   "metadata": {},
   "outputs": [],
   "source": [
    "input_5 = [1,1]"
   ]
  },
  {
   "cell_type": "code",
   "execution_count": 45,
   "metadata": {},
   "outputs": [
    {
     "data": {
      "text/plain": [
       "4"
      ]
     },
     "execution_count": 45,
     "metadata": {},
     "output_type": "execute_result"
    }
   ],
   "source": [
    "beta.Test(input_5)"
   ]
  },
  {
   "cell_type": "code",
   "execution_count": 46,
   "metadata": {},
   "outputs": [
    {
     "data": {
      "text/plain": [
       "[0.9, 0.9]"
      ]
     },
     "execution_count": 46,
     "metadata": {},
     "output_type": "execute_result"
    }
   ],
   "source": [
    "input_2"
   ]
  },
  {
   "cell_type": "code",
   "execution_count": 47,
   "metadata": {},
   "outputs": [
    {
     "data": {
      "text/plain": [
       "4"
      ]
     },
     "execution_count": 47,
     "metadata": {},
     "output_type": "execute_result"
    }
   ],
   "source": [
    "beta.Train(input_5, 4)"
   ]
  },
  {
   "cell_type": "code",
   "execution_count": 48,
   "metadata": {},
   "outputs": [
    {
     "data": {
      "text/plain": [
       "4"
      ]
     },
     "execution_count": 48,
     "metadata": {},
     "output_type": "execute_result"
    }
   ],
   "source": [
    "beta.Test([0.96,0.96])"
   ]
  },
  {
   "cell_type": "code",
   "execution_count": 49,
   "metadata": {},
   "outputs": [
    {
     "data": {
      "text/plain": [
       "3"
      ]
     },
     "execution_count": 49,
     "metadata": {},
     "output_type": "execute_result"
    }
   ],
   "source": [
    "beta.Test([0.94,0.94])"
   ]
  },
  {
   "cell_type": "code",
   "execution_count": 50,
   "metadata": {},
   "outputs": [
    {
     "name": "stdout",
     "output_type": "stream",
     "text": [
      "feature space =  1\n",
      "threshold =  0.5\n",
      "w_list = [[0.1, 0.1, 0.9, 0.9], [0.9, 0.9, 0.09999999999999998, 0.09999999999999998], [0.01, 0.01, 0.8, 0.8], [1, 1, 0, 0]]\n",
      "label_list: =  [3, 3, 1, 4]\n",
      "num of categories: 4\n"
     ]
    }
   ],
   "source": [
    "beta.info()"
   ]
  },
  {
   "cell_type": "code",
   "execution_count": 55,
   "metadata": {},
   "outputs": [],
   "source": [
    "# save the infomation of ARTMAP\n",
    "beta.Save()"
   ]
  },
  {
   "cell_type": "code",
   "execution_count": 56,
   "metadata": {},
   "outputs": [
    {
     "name": "stdout",
     "output_type": "stream",
     "text": [
      "Reset the all of templates and labels\n"
     ]
    }
   ],
   "source": [
    "#reset\n",
    "beta.Reset()"
   ]
  },
  {
   "cell_type": "code",
   "execution_count": 57,
   "metadata": {},
   "outputs": [
    {
     "name": "stdout",
     "output_type": "stream",
     "text": [
      "feature space =  1\n",
      "threshold =  0.5\n",
      "w_list = []\n",
      "label_list: =  []\n",
      "num of categories: 0\n"
     ]
    }
   ],
   "source": [
    "beta.info()"
   ]
  },
  {
   "cell_type": "code",
   "execution_count": 58,
   "metadata": {},
   "outputs": [],
   "source": [
    "# road \n",
    "beta.Load()"
   ]
  },
  {
   "cell_type": "code",
   "execution_count": 59,
   "metadata": {},
   "outputs": [
    {
     "name": "stdout",
     "output_type": "stream",
     "text": [
      "feature space =  1\n",
      "threshold =  0.5\n",
      "w_list = [[0.1, 0.1, 0.9, 0.9], [0.9, 0.9, 0.09999999999999998, 0.09999999999999998], [0.01, 0.01, 0.8, 0.8], [1.0, 1.0, 0.0, 0.0]]\n",
      "label_list: =  [3, 3, 1, 4]\n",
      "num of categories: 4\n"
     ]
    }
   ],
   "source": [
    "beta.info()"
   ]
  },
  {
   "cell_type": "code",
   "execution_count": 60,
   "metadata": {},
   "outputs": [
    {
     "data": {
      "text/plain": [
       "3"
      ]
     },
     "execution_count": 60,
     "metadata": {},
     "output_type": "execute_result"
    }
   ],
   "source": [
    "beta.Test([0.94,0.94])"
   ]
  },
  {
   "cell_type": "code",
   "execution_count": 34,
   "metadata": {},
   "outputs": [
    {
     "name": "stdout",
     "output_type": "stream",
     "text": [
      "Thank you!\n"
     ]
    }
   ],
   "source": [
    "print(\"Thank you!\")"
   ]
  },
  {
   "cell_type": "code",
   "execution_count": null,
   "metadata": {},
   "outputs": [],
   "source": []
  }
 ],
 "metadata": {
  "kernelspec": {
   "display_name": "Python 3",
   "language": "python",
   "name": "python3"
  },
  "language_info": {
   "codemirror_mode": {
    "name": "ipython",
    "version": 3
   },
   "file_extension": ".py",
   "mimetype": "text/x-python",
   "name": "python",
   "nbconvert_exporter": "python",
   "pygments_lexer": "ipython3",
   "version": "3.7.1"
  }
 },
 "nbformat": 4,
 "nbformat_minor": 2
}
