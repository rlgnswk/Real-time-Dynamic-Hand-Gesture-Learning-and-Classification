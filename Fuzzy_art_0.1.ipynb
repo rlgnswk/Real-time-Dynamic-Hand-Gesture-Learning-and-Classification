{
 "cells": [
  {
   "cell_type": "code",
   "execution_count": 1,
   "metadata": {},
   "outputs": [
    {
     "data": {
      "text/plain": [
       "'\\nHGU\\nCSEE\\nKGH\\n\\nFuzzy art\\n'"
      ]
     },
     "execution_count": 1,
     "metadata": {},
     "output_type": "execute_result"
    }
   ],
   "source": [
    "'''\n",
    "HGU\n",
    "CSEE\n",
    "KGH\n",
    "\n",
    "Fuzzy art\n",
    "'''"
   ]
  },
  {
   "cell_type": "code",
   "execution_count": 2,
   "metadata": {},
   "outputs": [],
   "source": [
    "from numpy import linalg as LA\n",
    "import numpy as np\n",
    "import pandas as pd\n",
    "import os\n",
    "import matplotlib.pyplot as plt\n",
    "import math\n",
    "from numpy import linalg as LA"
   ]
  },
  {
   "cell_type": "code",
   "execution_count": 3,
   "metadata": {},
   "outputs": [],
   "source": [
    "class Fuzzy_ART():\n",
    "    def __init__(self, feature_space = 1, threshold = 0.5, w_list = []):\n",
    "        print(\"##model is created##\")\n",
    "        self.M = feature_space\n",
    "        self.threshold = threshold\n",
    "        self.w_list = w_list\n",
    "    \n",
    "    def normalization_vector(self, input_vector):\n",
    "        pass\n",
    "        #return normalized_vector\n",
    "        \n",
    "    def complement_coding(self, input_vector):\n",
    "        #normalization_vector(input_vector) \n",
    "        complement_vector = [1-i for i in input_vector]\n",
    "        return complement_vector\n",
    "    \n",
    "    def make_input_x(self, input_i):\n",
    "        return input_i + self.complement_coding(input_i)\n",
    "       \n",
    "    def component_wise_min(self, x,y):\n",
    "        if len(x) != len(y):\n",
    "            return print(\"vector length unmatched!\")\n",
    "        zip_list = list(zip(x,y))\n",
    "        min_list = [min(i,j) for i,j in zip_list]\n",
    "        return min_list\n",
    "    \n",
    "    def area_with_two_vector(self, u , v):\n",
    "        if len(u) != len(v):\n",
    "            return print(\"vector length unmatched!\")\n",
    "        zip_list = list(zip(u,v))\n",
    "        side_length = [abs(i-j) for i,j in zip_list]\n",
    "        #cumprod is cumulative multiply all elements = area of two vertex vector\n",
    "        return np.cumprod(side_length)[-1]     \n",
    "    \n",
    "    def choice_function(self, x, w, printable = False):\n",
    "        '''  \n",
    "        𝐰_𝑗=(𝐮_𝑗,𝐯 ̅_𝑗 )\n",
    "        𝐰_𝑗 is an weight vector associated with 𝑗-th category node.\n",
    "        𝐰_𝑗 represents the area of 𝑗-th category\n",
    "          '''\n",
    "        non_zero_a = 0.0001\n",
    "        #𝐱∧𝐰_𝑗 = (𝐈∧𝐮_𝑗,𝐈 ̅∧𝐯 ̅_𝑗 )=(〖𝐈∧𝐮〗_𝑗, (𝐈∨𝐯_𝑗 ) ̅ )\n",
    "        #|𝐱∧𝐰_𝑗 |\n",
    "        x_w = self.component_wise_min(x,w)\n",
    "        x_w_norm = LA.norm(x_w)\n",
    "        #|𝐰_𝑗 |\n",
    "        w_norm = LA.norm(w)\n",
    "        #𝑇_𝑗 = |𝐱∧𝐰_𝑗 |/(𝛼+|𝐰_𝑗 | )\n",
    "        T_j = x_w_norm/(non_zero_a + w_norm)\n",
    "        if printable == True:\n",
    "                print(\"𝐱∧𝐰_𝑗:\",x_w)\n",
    "                print(\"|𝐱∧𝐰_𝑗 |\",x_w_norm)\n",
    "                print(\"|𝐰_𝑗 |\",w_norm)\n",
    "        if x_w_norm == w_norm: # in the j-category\n",
    "            return 1.0\n",
    "        else: #out of j- category\n",
    "            return T_j\n",
    "    \n",
    "    #find nearest w at input x\n",
    "    def Code_competition(self, input_x, w_list, mode = \"Train\"):\n",
    "        choice_list = [self.choice_function(input_x, w) for w in w_list]\n",
    "        print(\"choice list:\", choice_list)\n",
    "        #indices = [i for i, x in enumerate(t_list) if x == 1.0] # is the input in any categories?\n",
    "        count_in = choice_list.count(1) # num of category where input belongs to\n",
    "        #if input belong to any w\n",
    "        if count_in > 0 :\n",
    "            return self.inner_template_matching(w_list, choice_list)\n",
    "        #if input not belong to any w\n",
    "        else:\n",
    "            if mode is \"Train\":\n",
    "                return self.outer_template_matching(input_x , w_list, choice_list)\n",
    "            else:\n",
    "                return w_list, None\n",
    "            \n",
    "\n",
    "    def inner_template_matching(self, w_list, choice_list):\n",
    "        indices = [i for i, x in enumerate(choice_list) if x == 1.0] # find inner_category which value is 1,0\n",
    "        # get a |𝐰_𝑗 | to compare \n",
    "        inner_category_norm = [LA.norm(w_list[i]) for i in indices]\n",
    "        # |𝐰_𝑗 |<|𝐰_𝑘 | thus Thus, |𝑅_𝑗 |>|𝑅_𝑘 |\n",
    "        choice_category = inner_category_norm.index(max(inner_category_norm)) # max |𝐰_𝑗 | was the best choice by ARTMAP policy\n",
    "        print(\"inner_template_matching\", w_list, indices[choice_category])\n",
    "        return w_list, indices[choice_category] # the choice of j th category index  𝐽=arg  max┬𝑗⁡〖𝑇_𝑗 〗\n",
    "        \n",
    "    def outer_template_matching(self, input_x , w_list ,choice_list):  \n",
    "        for idx, index in enumerate(np.flip(np.argsort(choice_list))): # sort the up-down and test each in order\n",
    "            #|𝑅_𝐽⊕𝐈\"|=𝑀−|𝐱∧𝐰_𝐽 |≤𝑀(1−𝜌)\n",
    "            print(w_list[index])\n",
    "            x_w =self.component_wise_min(input_x , w_list[index])\n",
    "            matching_bool = ((self.M - LA.norm(x_w))<=(self.M-self.threshold))\n",
    "            \n",
    "            if matching_bool == True : # if matching is true, extend that w-th boundary \n",
    "                w_list[index] = self.component_wise_min(input_x, w_list[index]) # template learning\n",
    "                print(\"outer_template_matching1\",  w_list, index )\n",
    "                return w_list, index\n",
    "        # if any boundary is unmatched, make new boundary by input_x\n",
    "        w_list = w_list + [input_x] # Category addition\n",
    "        print(\"outer_template_matching2\", w_list, len(w_list)-1)\n",
    "        return  w_list, len(w_list)-1\n",
    "    \n",
    "    def Train(self, input_i):\n",
    "        input_x = self.make_input_x(input_i)\n",
    "        self.w_list, category  = self.Code_competition(input_x, self.w_list)\n",
    "        return category\n",
    "    \n",
    "    def info(self):\n",
    "        print(\"feature space = \". self.M)\n",
    "        print(\"threshold = \", self.threshold)\n",
    "        print(\"w_list =\",self.w_list)\n",
    "        print(\"num of categories:\", len(self.w_list))\n",
    "    \n",
    "    def Test(self, input_i):\n",
    "        input_x = self.make_input_x(input_i)\n",
    "        self.w_list, category  = self.Code_competition(input_x, self.w_list, mode = \"Test\")\n",
    "        if category is not None:\n",
    "            return category\n",
    "        else: \n",
    "            print(\"No category about this input\")\n",
    "        \n",
    "        \n",
    "        \n",
    "    def plot_ART(self):\n",
    "        pass\n",
    "        \n",
    "        \n",
    "                \n",
    "\n",
    "            "
   ]
  },
  {
   "cell_type": "code",
   "execution_count": 4,
   "metadata": {},
   "outputs": [
    {
     "name": "stdout",
     "output_type": "stream",
     "text": [
      "##model is created##\n"
     ]
    }
   ],
   "source": [
    "beta = Fuzzy_ART()"
   ]
  },
  {
   "cell_type": "code",
   "execution_count": 5,
   "metadata": {},
   "outputs": [],
   "source": [
    "input_1 = [0.1,0.1]"
   ]
  },
  {
   "cell_type": "code",
   "execution_count": 6,
   "metadata": {},
   "outputs": [
    {
     "name": "stdout",
     "output_type": "stream",
     "text": [
      "choice list: []\n",
      "outer_template_matching2 [[0.1, 0.1, 0.9, 0.9]] 0\n"
     ]
    },
    {
     "data": {
      "text/plain": [
       "0"
      ]
     },
     "execution_count": 6,
     "metadata": {},
     "output_type": "execute_result"
    }
   ],
   "source": [
    "beta.Train(input_1)"
   ]
  },
  {
   "cell_type": "code",
   "execution_count": 7,
   "metadata": {},
   "outputs": [],
   "source": [
    "input_2 = [0.3,0.3]"
   ]
  },
  {
   "cell_type": "code",
   "execution_count": 8,
   "metadata": {},
   "outputs": [
    {
     "name": "stdout",
     "output_type": "stream",
     "text": [
      "choice list: [0.7808078385942975]\n",
      "[0.1, 0.1, 0.9, 0.9]\n",
      "outer_template_matching1 [[0.1, 0.1, 0.7, 0.7]] 0\n"
     ]
    },
    {
     "data": {
      "text/plain": [
       "0"
      ]
     },
     "execution_count": 8,
     "metadata": {},
     "output_type": "execute_result"
    }
   ],
   "source": [
    "beta.Train(input_2)"
   ]
  },
  {
   "cell_type": "code",
   "execution_count": 9,
   "metadata": {},
   "outputs": [
    {
     "name": "stdout",
     "output_type": "stream",
     "text": [
      "choice list: [1.0]\n",
      "inner_template_matching [[0.1, 0.1, 0.7, 0.7]] 0\n"
     ]
    },
    {
     "data": {
      "text/plain": [
       "0"
      ]
     },
     "execution_count": 9,
     "metadata": {},
     "output_type": "execute_result"
    }
   ],
   "source": [
    "beta.Train(input_2)"
   ]
  },
  {
   "cell_type": "code",
   "execution_count": 10,
   "metadata": {},
   "outputs": [],
   "source": [
    "input_3 = [0.2,0.2]"
   ]
  },
  {
   "cell_type": "code",
   "execution_count": 11,
   "metadata": {},
   "outputs": [
    {
     "name": "stdout",
     "output_type": "stream",
     "text": [
      "choice list: [1.0]\n",
      "inner_template_matching [[0.1, 0.1, 0.7, 0.7]] 0\n"
     ]
    },
    {
     "data": {
      "text/plain": [
       "0"
      ]
     },
     "execution_count": 11,
     "metadata": {},
     "output_type": "execute_result"
    }
   ],
   "source": [
    "beta.Train(input_3)"
   ]
  },
  {
   "cell_type": "code",
   "execution_count": 12,
   "metadata": {},
   "outputs": [],
   "source": [
    "input_4 = [1,1]"
   ]
  },
  {
   "cell_type": "code",
   "execution_count": 14,
   "metadata": {},
   "outputs": [
    {
     "name": "stdout",
     "output_type": "stream",
     "text": [
      "choice list: [0.14140721551575797]\n",
      "No category about this input\n"
     ]
    }
   ],
   "source": [
    "beta.Test(input_4)"
   ]
  },
  {
   "cell_type": "code",
   "execution_count": 15,
   "metadata": {},
   "outputs": [
    {
     "name": "stdout",
     "output_type": "stream",
     "text": [
      "choice list: [0.14140721551575797]\n",
      "[0.1, 0.1, 0.7, 0.7]\n",
      "outer_template_matching2 [[0.1, 0.1, 0.7, 0.7], [1, 1, 0, 0]] 1\n"
     ]
    },
    {
     "data": {
      "text/plain": [
       "1"
      ]
     },
     "execution_count": 15,
     "metadata": {},
     "output_type": "execute_result"
    }
   ],
   "source": [
    "beta.Train(input_4)"
   ]
  },
  {
   "cell_type": "code",
   "execution_count": null,
   "metadata": {},
   "outputs": [],
   "source": []
  },
  {
   "cell_type": "code",
   "execution_count": null,
   "metadata": {},
   "outputs": [],
   "source": [
    "input_5 = [0.9,0.9]"
   ]
  },
  {
   "cell_type": "code",
   "execution_count": null,
   "metadata": {},
   "outputs": [],
   "source": [
    "beta.Train(input_5)"
   ]
  },
  {
   "cell_type": "code",
   "execution_count": null,
   "metadata": {},
   "outputs": [],
   "source": []
  }
 ],
 "metadata": {
  "kernelspec": {
   "display_name": "Python 3",
   "language": "python",
   "name": "python3"
  },
  "language_info": {
   "codemirror_mode": {
    "name": "ipython",
    "version": 3
   },
   "file_extension": ".py",
   "mimetype": "text/x-python",
   "name": "python",
   "nbconvert_exporter": "python",
   "pygments_lexer": "ipython3",
   "version": "3.7.1"
  }
 },
 "nbformat": 4,
 "nbformat_minor": 2
}
