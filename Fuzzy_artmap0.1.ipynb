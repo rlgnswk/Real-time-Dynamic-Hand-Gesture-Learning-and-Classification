{
 "cells": [
  {
   "cell_type": "code",
   "execution_count": 29,
   "metadata": {},
   "outputs": [
    {
     "data": {
      "text/plain": [
       "'\\nHGU\\nCSEE\\nKGH\\n\\nFuzzy art + map\\n'"
      ]
     },
     "execution_count": 29,
     "metadata": {},
     "output_type": "execute_result"
    }
   ],
   "source": [
    "'''\n",
    "HGU\n",
    "CSEE\n",
    "KGH\n",
    "\n",
    "Fuzzy art + map\n",
    "'''"
   ]
  },
  {
   "cell_type": "code",
   "execution_count": 30,
   "metadata": {},
   "outputs": [],
   "source": [
    "from numpy import linalg as LA\n",
    "import numpy as np\n",
    "import pandas as pd\n",
    "import os\n",
    "import matplotlib.pyplot as plt\n",
    "import math\n",
    "from numpy import linalg as LA"
   ]
  },
  {
   "cell_type": "code",
   "execution_count": 55,
   "metadata": {},
   "outputs": [],
   "source": [
    "class Fuzzy_ARTMAP():\n",
    "    def __init__(self, feature_space = 1, threshold = 0.5, w_list = [] , label_list = []):\n",
    "        print(\"##model is created##\")\n",
    "        self.M = feature_space\n",
    "        self.threshold = threshold\n",
    "        self.w_list = w_list\n",
    "        self.label_list = label_list\n",
    "        \n",
    "    def complement_coding(self, input_vector):\n",
    "        #normalization_vector(input_vector) \n",
    "        complement_vector = [1-i for i in input_vector]\n",
    "        return complement_vector\n",
    "    \n",
    "    def make_input_x(self, input_i):\n",
    "        return input_i + self.complement_coding(input_i)\n",
    "       \n",
    "    def component_wise_min(self, x,y):\n",
    "        if len(x) != len(y):\n",
    "            return print(\"vector length unmatched!\")\n",
    "        zip_list = list(zip(x,y))\n",
    "        min_list = [min(i,j) for i,j in zip_list]\n",
    "        return min_list\n",
    " \n",
    "    \n",
    "    def choice_function(self, x, w):#𝑇_𝑗=|x∧𝐰_𝑗 |+(1−𝛼)(2𝑀−|𝐰_𝑗 |)  (Choice by difference)\n",
    "        #|𝐱∧𝐰_𝑗 |\n",
    "        non_zero_a = 0.000001\n",
    "        x_w = self.component_wise_min(x,w)\n",
    "        x_w_norm = sum(x_w)\n",
    "        w_norm = sum(w)\n",
    "        #𝑇_𝑗=|x∧𝐰_𝑗 |+(1−𝛼)(2𝑀−|𝐰_𝑗 |)  범위가 0~2 인듯??\n",
    "        T_j = x_w_norm + (1-non_zero_a)*(2*self.M - w_norm)\n",
    "        return T_j    \n",
    "    \n",
    "    #find nearest w at input x\n",
    "    def Code_competition(self, input_x, label):\n",
    "        choice_list = [self.choice_function(input_x, w) for w in self.w_list]\n",
    "        print(\"choice list:\", choice_list)\n",
    "        #indices = [i for i, x in enumerate(t_list) if x == 1.0] # is the input in any categories?\n",
    "        #if input belong to any w\n",
    "        return self.template_matching(input_x, label, choice_list)\n",
    "\n",
    "        \n",
    "    def template_matching(self, input_x, label ,choice_list):  \n",
    "        for idx, index in enumerate(np.flip(np.argsort(choice_list))): # sort the up-down and test each in order\n",
    "            #|𝑅_𝐽⊕𝐈\"|=𝑀−|𝐱∧𝐰_𝐽 |≤𝑀(1−𝜌)\n",
    "            #print(self.w_list[index])\n",
    "            x_w =self.component_wise_min(input_x , self.w_list[index])\n",
    "            # matching template and label\n",
    "            if self.label_list[index] == label:\n",
    "                matching_bool = ((self.M - sum(x_w))<=(self.M-self.threshold))\n",
    "                if matching_bool == True : # if matching is true, extend that w-th boundary \n",
    "                    self.w_list[index] = self.component_wise_min(input_x, self.w_list[index]) # template learning\n",
    "                    print(\"template learning\",  self.w_list )\n",
    "                    print(\"Related template:\", self.w_list[index]  )\n",
    "                    print(\"Related label:\", self.label_list[index]  )\n",
    "                    return self.w_list, self.label_list[index]\n",
    "                \n",
    "        # if any boundary is unmatched, make new boundary by input_x\n",
    "        self.w_list = self.w_list + [input_x] # Category addition\n",
    "        self.label_list = self.label_list + [label]\n",
    "        print(\"Category addition\", self.w_list)\n",
    "        print(\"additional label:\", label)\n",
    "        return  self.w_list, label\n",
    "    \n",
    "    def Train(self, input_i ,label):\n",
    "        input_x = self.make_input_x(input_i)\n",
    "        self.w_list, category  = self.Code_competition(input_x, label)\n",
    "        return category\n",
    "\n",
    "    \n",
    "    def Test(self, input_i):\n",
    "        input_x = self.make_input_x(input_i)\n",
    "        # select max choice Function value\n",
    "        choice_list = [self.choice_function(input_x, w) for w in self.w_list]\n",
    "        print(\"choice list:\", choice_list)\n",
    "        print(\"Related Template:\", self.w_list[choice_list.index(max(choice_list))] )\n",
    "        return self.label_list[choice_list.index(max(choice_list))]\n",
    "        \n",
    "        \n",
    "    def info(self):\n",
    "        print(\"feature space = \", self.M)\n",
    "        print(\"threshold = \", self.threshold)\n",
    "        print(\"w_list =\", self.w_list)\n",
    "        print(\"label_list: = \", self.label_list)\n",
    "        print(\"num of categories:\", len(self.w_list)) \n",
    "        \n",
    "    def plot_ART(self):\n",
    "        pass   \n",
    "        \n",
    "    def Reset(self):\n",
    "        self.w_list = []\n",
    "        self.label_list = []\n",
    "        return print(\"Reset the all of templates and labels\")\n",
    "        "
   ]
  },
  {
   "cell_type": "code",
   "execution_count": 56,
   "metadata": {},
   "outputs": [
    {
     "name": "stdout",
     "output_type": "stream",
     "text": [
      "##model is created##\n"
     ]
    }
   ],
   "source": [
    "beta = Fuzzy_ARTMAP()"
   ]
  },
  {
   "cell_type": "code",
   "execution_count": 57,
   "metadata": {},
   "outputs": [],
   "source": [
    "input_1 = [0.1,0.1]"
   ]
  },
  {
   "cell_type": "code",
   "execution_count": 58,
   "metadata": {},
   "outputs": [
    {
     "name": "stdout",
     "output_type": "stream",
     "text": [
      "choice list: []\n",
      "Category addition [[0.1, 0.1, 0.9, 0.9]]\n",
      "additional label: 3\n"
     ]
    },
    {
     "data": {
      "text/plain": [
       "3"
      ]
     },
     "execution_count": 58,
     "metadata": {},
     "output_type": "execute_result"
    }
   ],
   "source": [
    "beta.Train(input_1 , 3)"
   ]
  },
  {
   "cell_type": "code",
   "execution_count": 59,
   "metadata": {},
   "outputs": [
    {
     "name": "stdout",
     "output_type": "stream",
     "text": [
      "feature space =  1\n",
      "threshold =  0.5\n",
      "w_list = [[0.1, 0.1, 0.9, 0.9]]\n",
      "label_list: =  [3]\n",
      "num of categories: 1\n"
     ]
    }
   ],
   "source": [
    "beta.info()"
   ]
  },
  {
   "cell_type": "code",
   "execution_count": 60,
   "metadata": {},
   "outputs": [],
   "source": [
    "input_2 = [0.3,0.3]"
   ]
  },
  {
   "cell_type": "code",
   "execution_count": 61,
   "metadata": {},
   "outputs": [
    {
     "name": "stdout",
     "output_type": "stream",
     "text": [
      "choice list: [1.5999999999999999]\n",
      "Category addition [[0.1, 0.1, 0.9, 0.9], [0.3, 0.3, 0.7, 0.7]]\n",
      "additional label: 2\n"
     ]
    },
    {
     "data": {
      "text/plain": [
       "2"
      ]
     },
     "execution_count": 61,
     "metadata": {},
     "output_type": "execute_result"
    }
   ],
   "source": [
    "beta.Train(input_2, 2)"
   ]
  },
  {
   "cell_type": "code",
   "execution_count": 62,
   "metadata": {},
   "outputs": [
    {
     "name": "stdout",
     "output_type": "stream",
     "text": [
      "feature space =  1\n",
      "threshold =  0.5\n",
      "w_list = [[0.1, 0.1, 0.9, 0.9], [0.3, 0.3, 0.7, 0.7]]\n",
      "label_list: =  [3, 2]\n",
      "num of categories: 2\n"
     ]
    }
   ],
   "source": [
    "beta.info()"
   ]
  },
  {
   "cell_type": "code",
   "execution_count": 63,
   "metadata": {},
   "outputs": [
    {
     "name": "stdout",
     "output_type": "stream",
     "text": [
      "choice list: [1.5999999999999999, 2.0]\n",
      "template learning [[0.1, 0.1, 0.7, 0.7], [0.3, 0.3, 0.7, 0.7]]\n",
      "Related template: [0.1, 0.1, 0.7, 0.7]\n",
      "Related label: 3\n"
     ]
    },
    {
     "data": {
      "text/plain": [
       "3"
      ]
     },
     "execution_count": 63,
     "metadata": {},
     "output_type": "execute_result"
    }
   ],
   "source": [
    "beta.Train(input_2, 3)"
   ]
  },
  {
   "cell_type": "code",
   "execution_count": 64,
   "metadata": {},
   "outputs": [],
   "source": [
    "input_3 = [0.2,0.2]"
   ]
  },
  {
   "cell_type": "code",
   "execution_count": 65,
   "metadata": {},
   "outputs": [
    {
     "name": "stdout",
     "output_type": "stream",
     "text": [
      "choice list: [1.9999996, 1.8000000000000003]\n",
      "Category addition [[0.1, 0.1, 0.7, 0.7], [0.3, 0.3, 0.7, 0.7], [0.2, 0.2, 0.8, 0.8]]\n",
      "additional label: 1\n"
     ]
    },
    {
     "data": {
      "text/plain": [
       "1"
      ]
     },
     "execution_count": 65,
     "metadata": {},
     "output_type": "execute_result"
    }
   ],
   "source": [
    "beta.Train(input_3, 1)"
   ]
  },
  {
   "cell_type": "code",
   "execution_count": 66,
   "metadata": {},
   "outputs": [
    {
     "name": "stdout",
     "output_type": "stream",
     "text": [
      "feature space =  1\n",
      "threshold =  0.5\n",
      "w_list = [[0.1, 0.1, 0.7, 0.7], [0.3, 0.3, 0.7, 0.7], [0.2, 0.2, 0.8, 0.8]]\n",
      "label_list: =  [3, 2, 1]\n",
      "num of categories: 3\n"
     ]
    }
   ],
   "source": [
    "beta.info()"
   ]
  },
  {
   "cell_type": "code",
   "execution_count": 67,
   "metadata": {},
   "outputs": [],
   "source": [
    "input_4 = [1,1]"
   ]
  },
  {
   "cell_type": "code",
   "execution_count": 68,
   "metadata": {},
   "outputs": [
    {
     "name": "stdout",
     "output_type": "stream",
     "text": [
      "choice list: [0.5999996000000001, 0.6000000000000002, 0.4]\n",
      "Related Template: [0.3, 0.3, 0.7, 0.7]\n"
     ]
    },
    {
     "data": {
      "text/plain": [
       "2"
      ]
     },
     "execution_count": 68,
     "metadata": {},
     "output_type": "execute_result"
    }
   ],
   "source": [
    "beta.Test(input_4)"
   ]
  },
  {
   "cell_type": "code",
   "execution_count": 54,
   "metadata": {
    "scrolled": true
   },
   "outputs": [
    {
     "name": "stdout",
     "output_type": "stream",
     "text": [
      "choice list: [0.5999996000000001, 0.6000000000000002, 0.4]\n",
      "Category addition [[0.1, 0.1, 0.7, 0.7], [0.3, 0.3, 0.7, 0.7], [0.2, 0.2, 0.8, 0.8], [1, 1, 0, 0]]\n",
      "additional label: 1\n"
     ]
    },
    {
     "data": {
      "text/plain": [
       "1"
      ]
     },
     "execution_count": 54,
     "metadata": {},
     "output_type": "execute_result"
    }
   ],
   "source": [
    "beta.Train(input_4,1)"
   ]
  },
  {
   "cell_type": "code",
   "execution_count": 18,
   "metadata": {},
   "outputs": [
    {
     "name": "stdout",
     "output_type": "stream",
     "text": [
      "feature space =  1\n",
      "threshold =  0.5\n",
      "w_list = [[0.1, 0.1, 0.7, 0.7], [0.3, 0.3, 0.7, 0.7], [0.2, 0.2, 0.8, 0.8], [1, 1, 0, 0]]\n",
      "label_list: =  [3, 2, 1, 1]\n",
      "num of categories: 4\n"
     ]
    }
   ],
   "source": [
    "beta.info()"
   ]
  },
  {
   "cell_type": "code",
   "execution_count": 19,
   "metadata": {},
   "outputs": [
    {
     "name": "stdout",
     "output_type": "stream",
     "text": [
      "choice list: [0.5999996000000001, 0.6000000000000002, 0.4, 2.0]\n"
     ]
    },
    {
     "data": {
      "text/plain": [
       "1"
      ]
     },
     "execution_count": 19,
     "metadata": {},
     "output_type": "execute_result"
    }
   ],
   "source": [
    "beta.Test(input_4)"
   ]
  },
  {
   "cell_type": "code",
   "execution_count": 20,
   "metadata": {},
   "outputs": [],
   "source": [
    "input_5 = [0.9,0.9]"
   ]
  },
  {
   "cell_type": "code",
   "execution_count": 21,
   "metadata": {},
   "outputs": [
    {
     "name": "stdout",
     "output_type": "stream",
     "text": [
      "choice list: [0.7999996, 0.8000000000000002, 0.6, 1.8]\n",
      "[1, 1, 0, 0]\n",
      "template learning [[0.1, 0.1, 0.7, 0.7], [0.3, 0.3, 0.7, 0.7], [0.2, 0.2, 0.8, 0.8], [0.9, 0.9, 0, 0]]\n",
      "Related label: 1\n"
     ]
    },
    {
     "data": {
      "text/plain": [
       "1"
      ]
     },
     "execution_count": 21,
     "metadata": {},
     "output_type": "execute_result"
    }
   ],
   "source": [
    "beta.Train(input_5, 1)"
   ]
  },
  {
   "cell_type": "code",
   "execution_count": 22,
   "metadata": {},
   "outputs": [
    {
     "name": "stdout",
     "output_type": "stream",
     "text": [
      "choice list: [0.5999996000000001, 0.6000000000000002, 0.4, 1.9999997999999999]\n",
      "[0.9, 0.9, 0, 0]\n",
      "[0.3, 0.3, 0.7, 0.7]\n",
      "[0.1, 0.1, 0.7, 0.7]\n",
      "[0.2, 0.2, 0.8, 0.8]\n",
      "Category addition [[0.1, 0.1, 0.7, 0.7], [0.3, 0.3, 0.7, 0.7], [0.2, 0.2, 0.8, 0.8], [0.9, 0.9, 0, 0], [1, 1, 0, 0]]\n",
      "additional label: 5\n"
     ]
    },
    {
     "data": {
      "text/plain": [
       "5"
      ]
     },
     "execution_count": 22,
     "metadata": {},
     "output_type": "execute_result"
    }
   ],
   "source": [
    "beta.Train(input_4, 5)"
   ]
  },
  {
   "cell_type": "code",
   "execution_count": 23,
   "metadata": {},
   "outputs": [
    {
     "name": "stdout",
     "output_type": "stream",
     "text": [
      "choice list: [0.6999996000000002, 0.7000000000000003, 0.5000000000000001, 1.9999997999999999, 1.9]\n",
      "[0.9, 0.9, 0, 0]\n",
      "[1, 1, 0, 0]\n",
      "template learning [[0.1, 0.1, 0.7, 0.7], [0.3, 0.3, 0.7, 0.7], [0.2, 0.2, 0.8, 0.8], [0.9, 0.9, 0, 0], [0.95, 0.95, 0, 0]]\n",
      "Related label: 5\n"
     ]
    },
    {
     "data": {
      "text/plain": [
       "5"
      ]
     },
     "execution_count": 23,
     "metadata": {},
     "output_type": "execute_result"
    }
   ],
   "source": [
    "beta.Train([0.95,0.95], 5 )"
   ]
  },
  {
   "cell_type": "code",
   "execution_count": 24,
   "metadata": {},
   "outputs": [
    {
     "name": "stdout",
     "output_type": "stream",
     "text": [
      "choice list: [0.7199996000000002, 0.7200000000000003, 0.5200000000000001, 1.9999997999999999, 1.9799999]\n"
     ]
    },
    {
     "data": {
      "text/plain": [
       "1"
      ]
     },
     "execution_count": 24,
     "metadata": {},
     "output_type": "execute_result"
    }
   ],
   "source": [
    "beta.Test([0.94,0.94])"
   ]
  },
  {
   "cell_type": "code",
   "execution_count": 25,
   "metadata": {},
   "outputs": [
    {
     "name": "stdout",
     "output_type": "stream",
     "text": [
      "choice list: [0.6999996000000002, 0.7000000000000003, 0.5000000000000001, 1.9999997999999999, 1.9999999]\n"
     ]
    },
    {
     "data": {
      "text/plain": [
       "5"
      ]
     },
     "execution_count": 25,
     "metadata": {},
     "output_type": "execute_result"
    }
   ],
   "source": [
    "beta.Test([0.95,0.95])"
   ]
  },
  {
   "cell_type": "code",
   "execution_count": 27,
   "metadata": {},
   "outputs": [
    {
     "name": "stdout",
     "output_type": "stream",
     "text": [
      "Reset the all of templates and labels\n"
     ]
    }
   ],
   "source": [
    "beta.Reset()"
   ]
  },
  {
   "cell_type": "code",
   "execution_count": 28,
   "metadata": {},
   "outputs": [
    {
     "name": "stdout",
     "output_type": "stream",
     "text": [
      "feature space =  1\n",
      "threshold =  0.5\n",
      "w_list = []\n",
      "label_list: =  []\n",
      "num of categories: 0\n"
     ]
    }
   ],
   "source": [
    "beta.info()"
   ]
  },
  {
   "cell_type": "code",
   "execution_count": null,
   "metadata": {},
   "outputs": [],
   "source": []
  },
  {
   "cell_type": "code",
   "execution_count": null,
   "metadata": {},
   "outputs": [],
   "source": []
  },
  {
   "cell_type": "code",
   "execution_count": null,
   "metadata": {},
   "outputs": [],
   "source": []
  }
 ],
 "metadata": {
  "kernelspec": {
   "display_name": "Python 3",
   "language": "python",
   "name": "python3"
  },
  "language_info": {
   "codemirror_mode": {
    "name": "ipython",
    "version": 3
   },
   "file_extension": ".py",
   "mimetype": "text/x-python",
   "name": "python",
   "nbconvert_exporter": "python",
   "pygments_lexer": "ipython3",
   "version": "3.7.1"
  }
 },
 "nbformat": 4,
 "nbformat_minor": 2
}
