{
 "cells": [
  {
   "cell_type": "code",
   "execution_count": null,
   "metadata": {},
   "outputs": [],
   "source": [
    "'''\n",
    "HGU\n",
    "CSEE\n",
    "KGH\n",
    "\n",
    "Fuzzy art\n",
    "'''"
   ]
  },
  {
   "cell_type": "code",
   "execution_count": 2,
   "metadata": {},
   "outputs": [],
   "source": [
    "from numpy import linalg as LA\n",
    "import numpy as np\n",
    "import pandas as pd\n",
    "import os\n",
    "import matplotlib.pyplot as plt\n",
    "import math"
   ]
  },
  {
   "cell_type": "code",
   "execution_count": 97,
   "metadata": {},
   "outputs": [],
   "source": [
    "class Fuzzy_ART():\n",
    "    def __init__(self):\n",
    "        print(\"##model is created##\")\n",
    "    \n",
    "    def normalization_vector(self, input_vector):\n",
    "        pass\n",
    "        #return normalized_vector\n",
    "        \n",
    "    def complement_coding(self, input_vector):\n",
    "        #normalization_vector(input_vector) \n",
    "        complement_vector = [1-i for i in input_vector]\n",
    "        return complement_vector\n",
    "    \n",
    "    def make_input_x(self, input):\n",
    "        return [input , self.complement_coding(input)]\n",
    "    def make_w_j(self,u_down_corner, v_upper_corner):\n",
    "        return [u_down_corner , self.complement_coding(v_upper_corner)]\n",
    "    \n",
    "    def component_wise_min(self, x,y):\n",
    "        if len(x) != len(y):\n",
    "            return print(\"vector length unmatched!\")\n",
    "        zip_list = list(zip(x,y))\n",
    "        min_list = [min(i,j) for i,j in zip_list]\n",
    "        return min_list\n",
    "    \n",
    "    def area_with_two_vector(self, u , v):\n",
    "        if len(u) != len(v):\n",
    "            return print(\"vector length unmatched!\")\n",
    "        zip_list = list(zip(u,v))\n",
    "        side_length = [abs(i-j) for i,j in zip_list]\n",
    "        #cumprod is cumulative multiply all elements = area of two vertex vector\n",
    "        return np.cumprod(side_length)[-1]     \n",
    "    \n",
    "    def choice_function(self, x, w, printable = False):\n",
    "        '''  \n",
    "        𝐰_𝑗=(𝐮_𝑗,𝐯 ̅_𝑗 )\n",
    "        𝐰_𝑗 is an weight vector associated with 𝑗-th category node.\n",
    "        𝐰_𝑗 represents the area of 𝑗-th category\n",
    "          '''\n",
    "        non_zero_a = 0.0001\n",
    "        #𝐱∧𝐰_𝑗 = (𝐈∧𝐮_𝑗,𝐈 ̅∧𝐯 ̅_𝑗 )=(〖𝐈∧𝐮〗_𝑗, (𝐈∨𝐯_𝑗 ) ̅ )\n",
    "        x_w =[self.component_wise_min(x[0],w[0]),self.component_wise_min(x[1],w[1])]\n",
    "        #|𝐱∧𝐰_𝑗 |\n",
    "        area_x_w = self.area_with_two_vector(x_w[0],x_w[1])\n",
    "        #|𝐰_𝑗 |\n",
    "        area_w = self.area_with_two_vector(w[0],w[1])\n",
    "        #𝑇_𝑗 = |𝐱∧𝐰_𝑗 |/(𝛼+|𝐰_𝑗 | )\n",
    "        T_j = area_x_w/(non_zero_a + area_w)\n",
    "        if printable == True:\n",
    "                print(\"𝐱∧𝐰_𝑗:\",x_w)\n",
    "                print(\"|𝐱∧𝐰_𝑗 |\",area_x_w)\n",
    "                print(\"|𝐰_𝑗 |\",area_w)\n",
    "        return T_j\n",
    "    \n",
    "    #find nearest w at input x\n",
    "    def Code_competition(input_x, w_list):\n",
    "        t_list = [choice_function(input_x, w_j) for w_j in w_list]\n",
    "        max_index = t_list.index(max(t_list))\n",
    "        return max_index\n",
    "    \n",
    "    def template_matching(input_x , w_list ,max_index , threshold = 0.5):\n",
    "        w_max = w_list[max_index]\n",
    "        x_w =[self.component_wise_min(x[0],w_max[0]),self.component_wise_min(x[1],w_max[1])]\n",
    "        area_x_w = self.area_with_two_vector(x_w[0],x_w[1])\n",
    "        if area > threshold:\n",
    "            return w_list.append(new_boundary(input_x))\n",
    "        else:\n",
    "            w_list[max_index] = extend_boundary(input_x, w_max)\n",
    "            return w_list\n",
    "        \n",
    "    def new_boundary(input_x):\n",
    "        pass\n",
    "    def extend_boundary(input_x, w_max):\n",
    "        pass\n",
    "            "
   ]
  },
  {
   "cell_type": "code",
   "execution_count": null,
   "metadata": {},
   "outputs": [],
   "source": []
  },
  {
   "cell_type": "code",
   "execution_count": 98,
   "metadata": {},
   "outputs": [],
   "source": [
    "input1 = [0.1,0.6]\n",
    "input2 = [0.2,0.3]"
   ]
  },
  {
   "cell_type": "code",
   "execution_count": 99,
   "metadata": {},
   "outputs": [
    {
     "name": "stdout",
     "output_type": "stream",
     "text": [
      "##model is created##\n"
     ]
    }
   ],
   "source": [
    "art = Fuzzy_ART()"
   ]
  },
  {
   "cell_type": "code",
   "execution_count": 100,
   "metadata": {},
   "outputs": [
    {
     "data": {
      "text/plain": [
       "[0.9, 0.4]"
      ]
     },
     "execution_count": 100,
     "metadata": {},
     "output_type": "execute_result"
    }
   ],
   "source": [
    "art.complement_coding(input1)"
   ]
  },
  {
   "cell_type": "code",
   "execution_count": 101,
   "metadata": {},
   "outputs": [
    {
     "data": {
      "text/plain": [
       "[[0.1, 0.6], [0.9, 0.4]]"
      ]
     },
     "execution_count": 101,
     "metadata": {},
     "output_type": "execute_result"
    }
   ],
   "source": [
    "art.make_input_x(input1)"
   ]
  },
  {
   "cell_type": "code",
   "execution_count": 102,
   "metadata": {},
   "outputs": [
    {
     "data": {
      "text/plain": [
       "[0.1, 0.3]"
      ]
     },
     "execution_count": 102,
     "metadata": {},
     "output_type": "execute_result"
    }
   ],
   "source": [
    "output = art.component_wise_min(input1,input2)\n",
    "output"
   ]
  },
  {
   "cell_type": "code",
   "execution_count": 103,
   "metadata": {},
   "outputs": [
    {
     "data": {
      "text/plain": [
       "array([0.02, 0.18])"
      ]
     },
     "execution_count": 103,
     "metadata": {},
     "output_type": "execute_result"
    }
   ],
   "source": [
    "np.multiply(input1,input2)"
   ]
  },
  {
   "cell_type": "code",
   "execution_count": 105,
   "metadata": {},
   "outputs": [
    {
     "data": {
      "text/plain": [
       "0.036"
      ]
     },
     "execution_count": 105,
     "metadata": {},
     "output_type": "execute_result"
    }
   ],
   "source": [
    "a= [0,0,0]\n",
    "b= [0.3,0.4,0.3]\n",
    "art.area_with_two_vector(a,b)"
   ]
  },
  {
   "cell_type": "code",
   "execution_count": 108,
   "metadata": {},
   "outputs": [
    {
     "data": {
      "text/plain": [
       "[[0, 0], [0.7, 0.7]]"
      ]
     },
     "execution_count": 108,
     "metadata": {},
     "output_type": "execute_result"
    }
   ],
   "source": [
    "u = [0,0]\n",
    "v = [0.3,0.3]\n",
    "# 𝐰_𝑗=(𝐮_𝑗,𝐯 ̅_𝑗 )\n",
    "w = art.make_w_j(u,v)\n",
    "w\n"
   ]
  },
  {
   "cell_type": "code",
   "execution_count": 110,
   "metadata": {},
   "outputs": [
    {
     "data": {
      "text/plain": [
       "[[0, 0], [0.7, 0.7]]"
      ]
     },
     "execution_count": 110,
     "metadata": {},
     "output_type": "execute_result"
    }
   ],
   "source": [
    "w = [u,art.complement_coding(v)]\n",
    "w"
   ]
  },
  {
   "cell_type": "code",
   "execution_count": 111,
   "metadata": {},
   "outputs": [
    {
     "name": "stdout",
     "output_type": "stream",
     "text": [
      "[[0.4, 0.4], [0.6, 0.6]]\n",
      "𝐱∧𝐰_𝑗: [[0, 0], [0.6, 0.6]]\n",
      "|𝐱∧𝐰_𝑗 | 0.36\n",
      "|𝐰_𝑗 | 0.48999999999999994\n"
     ]
    },
    {
     "data": {
      "text/plain": [
       "0.7345439706182413"
      ]
     },
     "execution_count": 111,
     "metadata": {},
     "output_type": "execute_result"
    }
   ],
   "source": [
    "i = [0.4,0.4]\n",
    "x = art.make_input_x(i)\n",
    "print(x)\n",
    "art.choice_function(x,w,printable = True)"
   ]
  },
  {
   "cell_type": "code",
   "execution_count": 113,
   "metadata": {},
   "outputs": [
    {
     "name": "stdout",
     "output_type": "stream",
     "text": [
      "𝐱∧𝐰_𝑗: [[0.4, 0.4], [0, 0]]\n",
      "|𝐱∧𝐰_𝑗 | 0.16000000000000003\n",
      "|𝐰_𝑗 | 0.48999999999999994\n"
     ]
    },
    {
     "data": {
      "text/plain": [
       "0.32646398694144063"
      ]
     },
     "execution_count": 113,
     "metadata": {},
     "output_type": "execute_result"
    }
   ],
   "source": [
    "u = [0.7,0.7]\n",
    "v = [1,1]\n",
    "# 𝐰_𝑗=(𝐮_𝑗,𝐯 ̅_𝑗 )\n",
    "w = art.make_w_j(u,v)\n",
    "x = [0.4,0.4]\n",
    "x = art.make_input_x(i)\n",
    "art.choice_function(x,w,printable = True)"
   ]
  },
  {
   "cell_type": "code",
   "execution_count": 115,
   "metadata": {},
   "outputs": [
    {
     "data": {
      "text/plain": [
       "2"
      ]
     },
     "execution_count": 115,
     "metadata": {},
     "output_type": "execute_result"
    }
   ],
   "source": [
    "x = [1,2,3]\n",
    "y= [1,3,2]\n",
    "x.index(max(y))"
   ]
  },
  {
   "cell_type": "code",
   "execution_count": null,
   "metadata": {},
   "outputs": [],
   "source": []
  },
  {
   "cell_type": "code",
   "execution_count": null,
   "metadata": {},
   "outputs": [],
   "source": []
  },
  {
   "cell_type": "code",
   "execution_count": null,
   "metadata": {},
   "outputs": [],
   "source": []
  }
 ],
 "metadata": {
  "kernelspec": {
   "display_name": "Python 3",
   "language": "python",
   "name": "python3"
  },
  "language_info": {
   "codemirror_mode": {
    "name": "ipython",
    "version": 3
   },
   "file_extension": ".py",
   "mimetype": "text/x-python",
   "name": "python",
   "nbconvert_exporter": "python",
   "pygments_lexer": "ipython3",
   "version": "3.7.1"
  }
 },
 "nbformat": 4,
 "nbformat_minor": 2
}
