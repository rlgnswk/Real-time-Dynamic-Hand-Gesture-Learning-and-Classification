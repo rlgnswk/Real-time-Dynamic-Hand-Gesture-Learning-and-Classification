{
 "cells": [
  {
   "cell_type": "code",
   "execution_count": null,
   "metadata": {},
   "outputs": [],
   "source": [
    "'''\n",
    "HGU\n",
    "CSEE\n",
    "KGH\n",
    "\n",
    "Fuzzy art\n",
    "'''"
   ]
  },
  {
   "cell_type": "code",
   "execution_count": 12,
   "metadata": {},
   "outputs": [],
   "source": [
    "from numpy import linalg as LA\n",
    "import numpy as np\n",
    "import pandas as pd\n",
    "import os\n",
    "import matplotlib.pyplot as plt\n",
    "import math"
   ]
  },
  {
   "cell_type": "code",
   "execution_count": 57,
   "metadata": {},
   "outputs": [],
   "source": [
    "class Fuzzy_ART():\n",
    "    def __init__(self):\n",
    "        print(\"##model is created##\")\n",
    "    \n",
    "    def normalization_vector(self, input_vector):\n",
    "        pass\n",
    "        #return normalized_vector\n",
    "        \n",
    "    def complement_coding(self, input_vector):\n",
    "        #normalization_vector(input_vector) \n",
    "        complement_vector = [1-i for i in input_vector]\n",
    "        return complement_vector\n",
    "    \n",
    "    def made_input_x(self, input):\n",
    "        return [input , self.complement_coding(input)]\n",
    "    \n",
    "    def component_wise_min(self, x,y):\n",
    "        if len(x) != len(y):\n",
    "            return print(\"vector length unmatched!\")\n",
    "        zip_list = list(zip(x,y))\n",
    "        min_list = [min(i,j) for i,j in zip_list]\n",
    "        return min_list\n",
    "    \n",
    "    def component_wise_max(self, x,y): # maybe useless\n",
    "        if len(x) != len(y):\n",
    "            return print(\"vector length unmatched!\")\n",
    "        zip_list = list(zip(x,y))\n",
    "        max_list = [max(i,j) for i,j in zip_list]\n",
    "        return max_list\n",
    "    \n",
    "    def area_with_two_corner(self, u , v):\n",
    "        if len(u) != len(v):\n",
    "            return print(\"vector length unmatched!\")\n",
    "        zip_list = list(zip(u,v))\n",
    "        side_length = [abs(i-j) for i,j in zip_list]\n",
    "        #cumprod is cumulative multiply all elements = area of two vertex vector\n",
    "        return np.cumprod(side_length)[-1]     \n",
    "    \n",
    "    def choice_function(self, x, w):\n",
    "        \n",
    "        '''  \n",
    "        𝐰_𝑗=(𝐮_𝑗,𝐯 ̅_𝑗 )\n",
    "        𝐰_𝑗 is an weight vector associated with 𝑗-th category node.\n",
    "        𝐰_𝑗 represents the area of 𝑗-th category\n",
    "          '''\n",
    "        non_zero_a = 0.0001\n",
    "        #𝐱∧𝐰_𝑗 = (𝐈∧𝐮_𝑗,𝐈 ̅∧𝐯 ̅_𝑗 )=(〖𝐈∧𝐮〗_𝑗, (𝐈∨𝐯_𝑗 ) ̅ )\n",
    "        x_w =[self.component_wise_min(x[0],w[0]),self.component_wise_min(x[1],w[1])]\n",
    "        #|𝐱∧𝐰_𝑗 |\n",
    "        area_x_w = self.area_with_two_corner(x_w[0], self.complement_coding(x_w[1]))\n",
    "        print(\"|𝐱∧𝐰_𝑗 |\",area_x_w)\n",
    "        #|𝐰_𝑗 |\n",
    "        area_w = self.area_with_two_corner(w[0], self.complement_coding(w[1]))\n",
    "        print(\"|𝐰_𝑗 |\",area_w)\n",
    "        #𝑇_𝑗 = |𝐱∧𝐰_𝑗 |/(𝛼+|𝐰_𝑗 | )\n",
    "        T_j = area_x_w/(non_zero_a + area_w)\n",
    "        \n",
    "        return T_j"
   ]
  },
  {
   "cell_type": "code",
   "execution_count": null,
   "metadata": {},
   "outputs": [],
   "source": [
    "art.show()"
   ]
  },
  {
   "cell_type": "code",
   "execution_count": 4,
   "metadata": {},
   "outputs": [],
   "source": [
    "input1 = [0.1,0.6]\n",
    "input2 = [0.2,0.3]"
   ]
  },
  {
   "cell_type": "code",
   "execution_count": 58,
   "metadata": {},
   "outputs": [
    {
     "name": "stdout",
     "output_type": "stream",
     "text": [
      "##model is created##\n"
     ]
    }
   ],
   "source": [
    "art = Fuzzy_ART()"
   ]
  },
  {
   "cell_type": "code",
   "execution_count": 25,
   "metadata": {},
   "outputs": [
    {
     "data": {
      "text/plain": [
       "[0.9, 0.4]"
      ]
     },
     "execution_count": 25,
     "metadata": {},
     "output_type": "execute_result"
    }
   ],
   "source": [
    "art.complement_coding(input1)"
   ]
  },
  {
   "cell_type": "code",
   "execution_count": 26,
   "metadata": {},
   "outputs": [
    {
     "data": {
      "text/plain": [
       "[[0.1, 0.6], [0.9, 0.4]]"
      ]
     },
     "execution_count": 26,
     "metadata": {},
     "output_type": "execute_result"
    }
   ],
   "source": [
    "art.made_input_x(input1)"
   ]
  },
  {
   "cell_type": "code",
   "execution_count": 27,
   "metadata": {},
   "outputs": [
    {
     "data": {
      "text/plain": [
       "[0.1, 0.3]"
      ]
     },
     "execution_count": 27,
     "metadata": {},
     "output_type": "execute_result"
    }
   ],
   "source": [
    "output = art.component_wise_min(input1,input2)\n",
    "output"
   ]
  },
  {
   "cell_type": "code",
   "execution_count": 28,
   "metadata": {},
   "outputs": [
    {
     "data": {
      "text/plain": [
       "array([0.02, 0.18])"
      ]
     },
     "execution_count": 28,
     "metadata": {},
     "output_type": "execute_result"
    }
   ],
   "source": [
    "np.multiply(input1,input2)"
   ]
  },
  {
   "cell_type": "code",
   "execution_count": 29,
   "metadata": {},
   "outputs": [
    {
     "data": {
      "text/plain": [
       "0.036"
      ]
     },
     "execution_count": 29,
     "metadata": {},
     "output_type": "execute_result"
    }
   ],
   "source": [
    "a= [0,0,0]\n",
    "b= [0.3,0.4,0.3]\n",
    "art.area_with_two_corner(a,b)"
   ]
  },
  {
   "cell_type": "code",
   "execution_count": 76,
   "metadata": {},
   "outputs": [
    {
     "name": "stdout",
     "output_type": "stream",
     "text": [
      "|𝐱∧𝐰_𝑗 | 0.36\n",
      "|𝐰_𝑗 | 0.3\n"
     ]
    },
    {
     "data": {
      "text/plain": [
       "1.1996001332889037"
      ]
     },
     "execution_count": 76,
     "metadata": {},
     "output_type": "execute_result"
    }
   ],
   "source": [
    "u = [0,0]\n",
    "v = [0.6,0.5]\n",
    "# 𝐰_𝑗=(𝐮_𝑗,𝐯 ̅_𝑗 )\n",
    "w = [[0,0],art.complement_coding(v)]\n",
    "i = [0.5,0.6]\n",
    "i_2 = art.made_input_x(i)\n",
    "art.choice_function(i_2,w)"
   ]
  },
  {
   "cell_type": "code",
   "execution_count": null,
   "metadata": {},
   "outputs": [],
   "source": []
  },
  {
   "cell_type": "code",
   "execution_count": null,
   "metadata": {},
   "outputs": [],
   "source": []
  },
  {
   "cell_type": "code",
   "execution_count": null,
   "metadata": {},
   "outputs": [],
   "source": []
  },
  {
   "cell_type": "code",
   "execution_count": null,
   "metadata": {},
   "outputs": [],
   "source": []
  },
  {
   "cell_type": "code",
   "execution_count": null,
   "metadata": {},
   "outputs": [],
   "source": []
  }
 ],
 "metadata": {
  "kernelspec": {
   "display_name": "Python 3",
   "language": "python",
   "name": "python3"
  },
  "language_info": {
   "codemirror_mode": {
    "name": "ipython",
    "version": 3
   },
   "file_extension": ".py",
   "mimetype": "text/x-python",
   "name": "python",
   "nbconvert_exporter": "python",
   "pygments_lexer": "ipython3",
   "version": "3.7.1"
  }
 },
 "nbformat": 4,
 "nbformat_minor": 2
}
